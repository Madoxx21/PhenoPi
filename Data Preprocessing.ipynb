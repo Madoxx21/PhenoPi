{
 "cells": [
  {
   "cell_type": "markdown",
   "id": "45499e90-33de-47f2-bfb3-c944f522e793",
   "metadata": {},
   "source": [
    "# Data Preprocessing"
   ]
  },
  {
   "cell_type": "markdown",
   "id": "00b8d72a-d456-4b0f-a67d-0cbe53036e68",
   "metadata": {},
   "source": [
    "# 0. Импортируем библиотеки и загружаем данные"
   ]
  },
  {
   "cell_type": "code",
   "execution_count": 1,
   "id": "fc239dbb-55fc-4c2f-a26a-2b916bdd8e9f",
   "metadata": {},
   "outputs": [],
   "source": [
    "import json\n",
    "import os\n",
    "import random\n",
    "from sklearn.model_selection import train_test_split"
   ]
  },
  {
   "cell_type": "code",
   "execution_count": 8,
   "id": "b8f64dd1-6a2a-43b9-87b9-d7298684a75f",
   "metadata": {},
   "outputs": [],
   "source": [
    "# Пути к датасету\n",
    "dataset_name = \"potato_leaf_dataset\"\n",
    "input_json = \"E:/data/potato_leaf_dataset/annotations_coco.json/dataset.json\""
   ]
  },
  {
   "cell_type": "code",
   "execution_count": 9,
   "id": "74b0daca-ca03-4489-951f-502a85365cab",
   "metadata": {},
   "outputs": [],
   "source": [
    "output_dir = \"E:/data/potato_leaf_dataset/splits\"\n",
    "os.makedirs(output_dir, exist_ok=True)"
   ]
  },
  {
   "cell_type": "code",
   "execution_count": 10,
   "id": "3062b0dd-a83c-4b1a-b812-6b41be507ac4",
   "metadata": {},
   "outputs": [],
   "source": [
    "with open(input_json) as f:\n",
    "    coco = json.load(f)"
   ]
  },
  {
   "cell_type": "code",
   "execution_count": 11,
   "id": "b52b356d-9366-4430-b0b4-6179afdf6d63",
   "metadata": {},
   "outputs": [],
   "source": [
    "images = coco['images']\n",
    "annotations = coco['annotations']"
   ]
  },
  {
   "cell_type": "code",
   "execution_count": 12,
   "id": "35824042-a654-4ca9-8f7c-685c3c280339",
   "metadata": {},
   "outputs": [],
   "source": [
    "image_ids = [img['id'] for img in images]"
   ]
  },
  {
   "cell_type": "code",
   "execution_count": 14,
   "id": "163d7424-6cae-4d23-91b7-2148cca50c5f",
   "metadata": {},
   "outputs": [
    {
     "name": "stdout",
     "output_type": "stream",
     "text": [
      "Train: 80\n",
      "Val: 32\n",
      "Test: 16\n"
     ]
    }
   ],
   "source": [
    "train_ids, valtest_ids = train_test_split(image_ids, test_size=48, random_state=42)\n",
    "val_ids, test_ids = train_test_split(valtest_ids, test_size=16, random_state=42)\n",
    "\n",
    "print(f\"Train: {len(train_ids)}\")\n",
    "print(f\"Val: {len(val_ids)}\") \n",
    "print(f\"Test: {len(test_ids)}\") "
   ]
  },
  {
   "cell_type": "code",
   "execution_count": 15,
   "id": "99645ef1-0dca-4249-a2c9-7486cf821571",
   "metadata": {},
   "outputs": [],
   "source": [
    "def create_split(ids, name):\n",
    "    split = {\n",
    "        \"images\": [img for img in images if img['id'] in ids],\n",
    "        \"annotations\": [ann for ann in annotations if ann['image_id'] in ids],\n",
    "        \"categories\": coco['categories']\n",
    "    }\n",
    "    with open(os.path.join(output_dir, f\"instances_{name}.json\"), \"w\") as f:\n",
    "        json.dump(split, f)"
   ]
  },
  {
   "cell_type": "code",
   "execution_count": 16,
   "id": "8a1be03b-97fb-4e60-b823-d1e66fd3914c",
   "metadata": {},
   "outputs": [],
   "source": [
    "create_split(train_ids, \"train\")\n",
    "create_split(val_ids, \"val\")\n",
    "create_split(test_ids, \"test\")"
   ]
  }
 ],
 "metadata": {
  "kernelspec": {
   "display_name": "Python 3 (ipykernel)",
   "language": "python",
   "name": "python3"
  },
  "language_info": {
   "codemirror_mode": {
    "name": "ipython",
    "version": 3
   },
   "file_extension": ".py",
   "mimetype": "text/x-python",
   "name": "python",
   "nbconvert_exporter": "python",
   "pygments_lexer": "ipython3",
   "version": "3.12.11"
  }
 },
 "nbformat": 4,
 "nbformat_minor": 5
}
